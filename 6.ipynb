{
 "cells": [
  {
   "cell_type": "code",
   "execution_count": null,
   "id": "3f071bf1-fe02-4881-b31c-bde4c758709a",
   "metadata": {},
   "outputs": [],
   "source": [
    "import numpy as np\n",
    "\n",
    "samples = ['The cat sat on the mat.', 'The dog ate my homework.']\n",
    "\n",
    "token_index = {}\n",
    "\n",
    "for sample in samples:\n",
    "    for word in sample.split():\n",
    "        if word not in token_index:\n",
    "            token_index[word] = len(token_index)\n",
    "\n",
    "max_length = 10\n",
    "\n",
    "results = np.zeros(shape=(len(samples), max_length, max(token_index.values()) + 1))\n",
    "\n",
    "for i, sample in enumerate(samples):\n",
    "    for j, word in enumerate(sample.split()):\n",
    "        if j < max_length:\n",
    "            results[i,j,token_index[word]] = 1\n",
    "\n",
    "print(results)\n",
    "\n",
    "inverse_token_index = {v:k for k,v in token_index.items()}\n",
    "decoded_results = []\n",
    "for result in results:\n",
    "    sample = \"\"\n",
    "    for word in result:\n",
    "        if 1 in word:\n",
    "            sample += inverse_token_index[word.tolist().index(1)] + ' '\n",
    "    decoded_results.append(sample)\n",
    "\n",
    "print(decoded_results)\n"
   ]
  },
  {
   "cell_type": "code",
   "execution_count": null,
   "id": "d515a5c5-c0b5-4573-8608-69d9c1ac5173",
   "metadata": {},
   "outputs": [],
   "source": []
  }
 ],
 "metadata": {
  "kernelspec": {
   "display_name": "TensorFlow 2 (Local)",
   "language": "python",
   "name": "local-tf2"
  },
  "language_info": {
   "codemirror_mode": {
    "name": "ipython",
    "version": 3
   },
   "file_extension": ".py",
   "mimetype": "text/x-python",
   "name": "python",
   "nbconvert_exporter": "python",
   "pygments_lexer": "ipython3",
   "version": "3.7.12"
  }
 },
 "nbformat": 4,
 "nbformat_minor": 5
}
